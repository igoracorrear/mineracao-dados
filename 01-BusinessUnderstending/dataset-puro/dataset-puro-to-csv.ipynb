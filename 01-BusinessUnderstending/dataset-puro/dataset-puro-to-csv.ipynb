{
 "cells": [
  {
   "cell_type": "code",
   "execution_count": 1,
   "id": "c480e700",
   "metadata": {},
   "outputs": [
    {
     "name": "stdout",
     "output_type": "stream",
     "text": [
      "@relation house_16H\n",
      "\n",
      "@attribute P1 numeric\n",
      "@attribute P5p1 numeric\n",
      "@attribute P6p2 numeric\n"
     ]
    }
   ],
   "source": [
    "# Script para inspecionar as primeiras 5 linhas de um arquivo\n",
    "file_path = 'house_16H.arff' # Coloque o caminho para o seu arquivo aqui\n",
    "\n",
    "try:\n",
    "    with open(file_path, 'r', encoding='utf-8') as f:\n",
    "        for i in range(5):\n",
    "            print(f.readline().strip())\n",
    "except FileNotFoundError:\n",
    "    print(f\"Erro: Arquivo '{file_path}' não encontrado.\")\n",
    "except Exception as e:\n",
    "    print(f\"Ocorreu um erro: {e}\")"
   ]
  },
  {
   "cell_type": "code",
   "execution_count": 3,
   "id": "ea64166c",
   "metadata": {},
   "outputs": [
    {
     "name": "stdout",
     "output_type": "stream",
     "text": [
      "Carregando o arquivo ARFF: 'house_16H.arff'...\n",
      "Arquivo ARFF carregado com sucesso em um DataFrame.\n",
      "DataFrame salvo com sucesso como 'house_data_classificacao.csv'.\n",
      "\n",
      "Verificando o arquivo CSV criado...\n",
      "As 5 primeiras linhas do arquivo CSV são:\n",
      "        P1      P5p1      P6p2     P11p4     P14p9     P15p1     P15p3  \\\n",
      "0  15512.0  0.460869  0.049252  0.226470  0.149827  0.752837  0.010057   \n",
      "1   1550.0  0.470968  0.002581  0.137419  0.096342  0.862581  0.000000   \n",
      "2   4741.0  0.485341  0.000211  0.189412  0.135656  0.856992  0.000000   \n",
      "3    467.0  0.498929  0.000000  0.100642  0.085470  0.907923  0.000000   \n",
      "4    310.0  0.474194  0.680645  0.225807  0.128834  0.896774  0.000000   \n",
      "\n",
      "      P16p2     P18p2     P27p4      H2p2      H8p2     H10p1     H13p1  \\\n",
      "0  0.579729  0.003251  0.075912  0.625318  0.036613  0.991377  0.260116   \n",
      "1  0.695142  0.005025  0.043551  0.064263  0.003350  0.994975  0.285267   \n",
      "2  0.683584  0.004143  0.027965  0.065796  0.000000  0.997411  0.315433   \n",
      "3  0.780488  0.006098  0.018293  0.057471  0.000000  1.000000  0.149425   \n",
      "4  0.756303  0.008403  0.016807  0.077519  0.672269  0.991597  0.147287   \n",
      "\n",
      "      H18pA     H40p4 binaryClass  \n",
      "0  0.052246  0.774059        b'N'  \n",
      "1  0.060606  0.142857        b'P'  \n",
      "2  0.065116  0.687500        b'P'  \n",
      "3  0.139535  1.000000        b'P'  \n",
      "4  0.000000  0.000000        b'P'  \n"
     ]
    }
   ],
   "source": [
    "import pandas as pd\n",
    "from scipy.io import arff\n",
    "import os\n",
    "\n",
    "# --- Passo 1: Definir os nomes dos arquivos ---\n",
    "# O nome do arquivo que você baixou (sem extensão)\n",
    "arff_filename = 'house_16H.arff' \n",
    "# O nome do novo arquivo CSV que vamos criar\n",
    "csv_filename = 'house_data_classificacao.csv'\n",
    "\n",
    "try:\n",
    "    # --- Passo 2: Carregar os dados do arquivo ARFF ---\n",
    "    print(f\"Carregando o arquivo ARFF: '{arff_filename}'...\")\n",
    "    data, meta = arff.loadarff(arff_filename)\n",
    "    \n",
    "    # --- Passo 3: Converter para um DataFrame do Pandas ---\n",
    "    df = pd.DataFrame(data)\n",
    "    print(\"Arquivo ARFF carregado com sucesso em um DataFrame.\")\n",
    "\n",
    "    # --- Passo 4: Salvar o DataFrame como um arquivo CSV ---\n",
    "    # O parâmetro index=False evita que o pandas crie uma coluna extra para o índice.\n",
    "    df.to_csv(csv_filename, index=False)\n",
    "    print(f\"DataFrame salvo com sucesso como '{csv_filename}'.\")\n",
    "\n",
    "    # --- Passo 5: Verificação (Opcional, mas recomendado) ---\n",
    "    # Vamos ler o CSV que acabamos de criar para garantir que tudo está correto.\n",
    "    print(\"\\nVerificando o arquivo CSV criado...\")\n",
    "    df_from_csv = pd.read_csv(csv_filename)\n",
    "    \n",
    "    print(\"As 5 primeiras linhas do arquivo CSV são:\")\n",
    "    print(df_from_csv.head())\n",
    "\n",
    "except FileNotFoundError:\n",
    "    print(f\"ERRO: O arquivo '{arff_filename}' não foi encontrado. Verifique o nome e o local do arquivo.\")\n",
    "except Exception as e:\n",
    "    print(f\"Ocorreu um erro inesperado: {e}\")"
   ]
  }
 ],
 "metadata": {
  "kernelspec": {
   "display_name": ".venv",
   "language": "python",
   "name": "python3"
  },
  "language_info": {
   "codemirror_mode": {
    "name": "ipython",
    "version": 3
   },
   "file_extension": ".py",
   "mimetype": "text/x-python",
   "name": "python",
   "nbconvert_exporter": "python",
   "pygments_lexer": "ipython3",
   "version": "3.13.4"
  }
 },
 "nbformat": 4,
 "nbformat_minor": 5
}
